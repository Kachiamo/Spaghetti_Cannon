{
 "cells": [
  {
   "cell_type": "code",
   "execution_count": null,
   "id": "9c4d2bca-57bb-4da9-b893-98e53efa979c",
   "metadata": {},
   "outputs": [],
   "source": [
    "# Import required libraries\n",
    "import pandas as pd\n",
    "import numpy as np\n",
    "import hvplot.pandas\n",
    "from pathlib import Path"
   ]
  },
  {
   "cell_type": "code",
   "execution_count": null,
   "id": "9f4782ed-f78a-4744-b6db-0db4127db49f",
   "metadata": {},
   "outputs": [],
   "source": [
    "# Import the OHLCV dataset into a Pandas Dataframe\n",
    "tick_df = pd.read_csv(\n",
    "    Path(\"../Project_2/Resources/AAPL.csv\"), \n",
    "    index_col='Date', \n",
    "    infer_datetime_format=True, \n",
    "    parse_dates=True\n",
    ")\n",
    "\n",
    "# Review the DataFrame\n",
    "tick_df.head()"
   ]
  },
  {
   "cell_type": "code",
   "execution_count": null,
   "id": "20df455b-95a7-483d-86af-fb4428600f21",
   "metadata": {},
   "outputs": [],
   "source": [
    "# Import the finta library\n",
    "from finta import TA"
   ]
  },
  {
   "cell_type": "code",
   "execution_count": null,
   "id": "7cb3ef44-a7ff-4de5-94b0-26999a2b796c",
   "metadata": {},
   "outputs": [],
   "source": [
    "# Plot the DataFrame with hvplot\n",
    "tick_df[\"Close\"].hvplot()"
   ]
  },
  {
   "cell_type": "code",
   "execution_count": null,
   "id": "c01f0d9b-1619-4269-8b9b-8468e9877c95",
   "metadata": {},
   "outputs": [],
   "source": []
  },
  {
   "cell_type": "code",
   "execution_count": null,
   "id": "56956dea-3057-48a5-b3e9-ab750b06d34f",
   "metadata": {},
   "outputs": [],
   "source": []
  },
  {
   "cell_type": "code",
   "execution_count": null,
   "id": "2299db49-0099-4422-b295-dd36711b792f",
   "metadata": {},
   "outputs": [],
   "source": []
  }
 ],
 "metadata": {
  "kernelspec": {
   "display_name": "Python 3 (ipykernel)",
   "language": "python",
   "name": "python3"
  },
  "language_info": {
   "codemirror_mode": {
    "name": "ipython",
    "version": 3
   },
   "file_extension": ".py",
   "mimetype": "text/x-python",
   "name": "python",
   "nbconvert_exporter": "python",
   "pygments_lexer": "ipython3",
   "version": "3.11.4"
  }
 },
 "nbformat": 4,
 "nbformat_minor": 5
}
